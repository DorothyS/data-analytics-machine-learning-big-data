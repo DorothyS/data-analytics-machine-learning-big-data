{
 "cells": [
  {
   "cell_type": "code",
   "execution_count": null,
   "metadata": {},
   "outputs": [],
   "source": [
    "# Import what we need\n",
    "import findspark\n",
    "findspark.init()\n",
    "\n",
    "import pyspark\n",
    "from os import getlogin, path\n",
    "import operator"
   ]
  },
  {
   "cell_type": "code",
   "execution_count": null,
   "metadata": {},
   "outputs": [],
   "source": [
    "# Get the current user\n",
    "current_user = getlogin()\n",
    "\n",
    "# Create a variable for the home directory to save all the data to\n",
    "home_dir = path.join(\"/home\", current_user)\n",
    "data_dir = path.join(home_dir, \"data\")\n",
    "word_count_dir = path.join(data_dir, \"wordcount\")\n",
    "\n",
    "print(\"Home Directory: {}\".format(home_dir))\n",
    "print(\"Data Directory: {}\".format(data_dir))\n",
    "print(\"Word Count Directory: {}\".format(word_count_dir))"
   ]
  },
  {
   "cell_type": "code",
   "execution_count": null,
   "metadata": {},
   "outputs": [],
   "source": [
    "# Create a Spark context to use\n",
    "sc = pyspark.SparkContext(appName=\"WordCount\")"
   ]
  },
  {
   "cell_type": "code",
   "execution_count": null,
   "metadata": {},
   "outputs": [],
   "source": [
    "# Load the text file into an RDD\n",
    "text_file = sc.textFile(\"/home/students/data/obama.txt\")"
   ]
  },
  {
   "cell_type": "code",
   "execution_count": null,
   "metadata": {},
   "outputs": [],
   "source": [
    "# Run the word count\n",
    "counts = text_file.flatMap(lambda line: line.split(\" \")) \\\n",
    "             .map(lambda word: (word, 1)) \\\n",
    "             .reduceByKey(lambda a, b: a + b)"
   ]
  },
  {
   "cell_type": "code",
   "execution_count": null,
   "metadata": {},
   "outputs": [],
   "source": [
    "# Show the count of words we've counted\n",
    "counts.count()"
   ]
  },
  {
   "cell_type": "code",
   "execution_count": null,
   "metadata": {},
   "outputs": [],
   "source": [
    "# View 10 of the results\n",
    "counts.take(10)"
   ]
  },
  {
   "cell_type": "code",
   "execution_count": null,
   "metadata": {},
   "outputs": [],
   "source": [
    "# Save the results to the data directory\n",
    "# Note - this will create more than one file containing all the results\n",
    "if not path.exists(word_count_dir):\n",
    "    counts.saveAsTextFile(word_count_dir)\n",
    "    print(\"Results saved.\")\n",
    "else:\n",
    "    print(\"Directory exists. Please delete it before proceeding.\")"
   ]
  },
  {
   "cell_type": "markdown",
   "metadata": {},
   "source": [
    "## Working with the results"
   ]
  },
  {
   "cell_type": "code",
   "execution_count": null,
   "metadata": {},
   "outputs": [],
   "source": [
    "# Convert the word count results into a Python list we can work with.\n",
    "word_count = counts.collect()"
   ]
  },
  {
   "cell_type": "code",
   "execution_count": null,
   "metadata": {},
   "outputs": [],
   "source": [
    "# Print some stats\n",
    "print(\"Counts: {}\".format(len(word_count)))\n",
    "print(\"Example count: {}\".format(word_count[0]))\n",
    "print(\"Data type: {}\".format(type(word_count[0])))"
   ]
  },
  {
   "cell_type": "code",
   "execution_count": null,
   "metadata": {},
   "outputs": [],
   "source": [
    "# Convert the list of tuples to a dictionary\n",
    "word_count_dict = dict(word_count)\n",
    "\n",
    "# Sort the dictionary by count\n",
    "sorted_word_count = sorted(word_count_dict.items(), key=operator.itemgetter(1))\n",
    "\n",
    "# Show the word and the count\n",
    "for word in sorted_word_count:\n",
    "    print(\"{} - {}\".format(word[0], word[1]))"
   ]
  },
  {
   "cell_type": "code",
   "execution_count": null,
   "metadata": {},
   "outputs": [],
   "source": [
    "# Close the Spark context\n",
    "sc.stop()"
   ]
  },
  {
   "cell_type": "code",
   "execution_count": null,
   "metadata": {},
   "outputs": [],
   "source": []
  }
 ],
 "metadata": {
  "kernelspec": {
   "display_name": "Python 3",
   "language": "python",
   "name": "python3"
  },
  "language_info": {
   "codemirror_mode": {
    "name": "ipython",
    "version": 3
   },
   "file_extension": ".py",
   "mimetype": "text/x-python",
   "name": "python",
   "nbconvert_exporter": "python",
   "pygments_lexer": "ipython3",
   "version": "3.6.3"
  }
 },
 "nbformat": 4,
 "nbformat_minor": 2
}

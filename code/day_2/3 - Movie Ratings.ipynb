{
 "cells": [
  {
   "cell_type": "code",
   "execution_count": null,
   "metadata": {},
   "outputs": [],
   "source": [
    "import findspark\n",
    "findspark.init()\n",
    "\n",
    "from os import getlogin, path\n",
    "from collections import namedtuple\n",
    "\n",
    "from pyspark import SparkContext\n",
    "from pyspark.sql import SparkSession"
   ]
  },
  {
   "cell_type": "code",
   "execution_count": null,
   "metadata": {},
   "outputs": [],
   "source": [
    "# Module constants\n",
    "HOME_DIR = path.join(\"/home\", getlogin())\n",
    "SAVE_DIR = path.join(HOME_DIR, \"data\", \"movieratings\")\n",
    "DATA_DIR = path.join(\"/home\", \"students\", \"data\", \"ml-100k\")\n",
    "\n",
    "MOVIE_DATA_FILE = path.join(DATA_DIR, \"u.item\")\n",
    "GEN_Y_FILE = path.join(DATA_DIR, \"u.user\")\n",
    "RATINGS_FILE = path.join(DATA_DIR, \"u.data\")\n",
    "\n",
    "print(\"Home Directory: {}\".format(HOME_DIR))\n",
    "print(\"Save Directory: {}\".format(SAVE_DIR))\n",
    "print(\"Data Directory: {}\\n\".format(DATA_DIR))\n",
    "\n",
    "print(\"Movie Data File: {}\".format(MOVIE_DATA_FILE))\n",
    "print(\"Gen Y File: {}\".format(GEN_Y_FILE))\n",
    "print(\"Ratings File: {}\".format(RATINGS_FILE))\n",
    "\n",
    "MOVIE_FIELDS = ['movie_id', 'title']\n",
    "USER_FIELDS = ['user_id', 'age', 'gender']\n",
    "RATING_FIELDS = ['user_id', 'movie_id', 'rating', 'timestamp']\n",
    "\n",
    "Movie = namedtuple('Movie', MOVIE_FIELDS)\n",
    "User = namedtuple('User', USER_FIELDS)\n",
    "Rating = namedtuple('Rating', RATING_FIELDS)"
   ]
  },
  {
   "cell_type": "code",
   "execution_count": null,
   "metadata": {},
   "outputs": [],
   "source": [
    "# Custom parsing methods\n",
    "def parse_movie(row):\n",
    "    \"\"\"\n",
    "    Parses a movie row and returns a Movie named tuple.\n",
    "    \"\"\"\n",
    "    return Movie(*row[:2])\n",
    "\n",
    "def parse_user(row):\n",
    "    \"\"\"\n",
    "    Parses a user row and returns a User named tuple.\n",
    "    \"\"\"\n",
    "    row[1] = int(row[1])  # convert age to int\n",
    "    return User(*row[:3])\n",
    "\n",
    "def parse_rating(row):\n",
    "    \"\"\"\n",
    "    Parses a rating row and returns a Rating named tuple.\n",
    "    \"\"\"\n",
    "    row[2] = float(row[2])  # convert rating to float\n",
    "    return Rating(*row[:4])"
   ]
  },
  {
   "cell_type": "code",
   "execution_count": null,
   "metadata": {},
   "outputs": [],
   "source": [
    "# Create a Spark context to use\n",
    "sc = SparkContext(appName=\"Movie Rating Analysis\")"
   ]
  },
  {
   "cell_type": "code",
   "execution_count": null,
   "metadata": {},
   "outputs": [],
   "source": [
    "# Create movies RDD\n",
    "movies = sc.textFile(MOVIE_DATA_FILE) \\\n",
    "            .map(lambda x: x.split('|')) \\\n",
    "            .map(parse_movie)\n",
    "\n",
    "for movie in movies.take(5):\n",
    "    print(movie)"
   ]
  },
  {
   "cell_type": "code",
   "execution_count": null,
   "metadata": {},
   "outputs": [],
   "source": [
    "# Convert to pair RDD of (movie_id, title) key-values\n",
    "movie_pairs = movies.map(lambda m: (m.movie_id, m.title))\n",
    "\n",
    "# movie_id, title\n",
    "for movie in movie_pairs.take(5):\n",
    "    print(movie)"
   ]
  },
  {
   "cell_type": "code",
   "execution_count": null,
   "metadata": {},
   "outputs": [],
   "source": [
    "# Create gen_y RDD and filter on 18-24 age group, collect only user_ids\n",
    "gen_y = sc.textFile(GEN_Y_FILE) \\\n",
    "            .map(lambda x: x.split('|')) \\\n",
    "            .map(parse_user) \\\n",
    "            .filter(lambda u: u.age >= 18 and u.age <= 24) \\\n",
    "            .map(lambda u: u.user_id) \\\n",
    "            .collect()\n",
    "# user_id\n",
    "print(gen_y[0])"
   ]
  },
  {
   "cell_type": "code",
   "execution_count": null,
   "metadata": {},
   "outputs": [],
   "source": [
    "# Broadcast gen_y to cache lookup\n",
    "gen_y_ids = sc.broadcast(set(gen_y))"
   ]
  },
  {
   "cell_type": "code",
   "execution_count": null,
   "metadata": {},
   "outputs": [],
   "source": [
    "# Create ratings RDD\n",
    "ratings = sc.textFile(RATINGS_FILE) \\\n",
    "            .map(lambda x: x.split('\\t')) \\\n",
    "            .map(parse_rating)\n",
    "\n",
    "# user_id, movie_id, rating, timestamp\n",
    "for rating in ratings.take(5):\n",
    "    print(rating)"
   ]
  },
  {
   "cell_type": "code",
   "execution_count": null,
   "metadata": {},
   "outputs": [],
   "source": [
    "# Filter ratings on gen_y users\n",
    "gen_y_ratings = ratings.filter(lambda r: r.user_id in gen_y_ids.value)\n",
    "\n",
    "# user_id, movie_id, rating, timestamp\n",
    "for rating in gen_y_ratings.take(5):\n",
    "    print(rating)"
   ]
  },
  {
   "cell_type": "code",
   "execution_count": null,
   "metadata": {},
   "outputs": [],
   "source": [
    "# Convert ratings to a pair RDD of (movie_id, rating)\n",
    "rating_pairs = gen_y_ratings.map(lambda r: (r.movie_id, r.rating))\n",
    "\n",
    "# movie_id, rating\n",
    "for rating in rating_pairs.take(5):\n",
    "    print(rating)"
   ]
  },
  {
   "cell_type": "markdown",
   "metadata": {},
   "source": [
    "## Compute Average Ratings"
   ]
  },
  {
   "cell_type": "code",
   "execution_count": null,
   "metadata": {},
   "outputs": [],
   "source": [
    "# Sum the count of ratings\n",
    "rating_sum_count = rating_pairs.combineByKey(lambda value: (value, 1),\n",
    "                                             lambda x, value: (x[0] + value, x[1] + 1),\n",
    "                                             lambda x, y: (x[0] + y[0], x[1] + y[1]))\n",
    "# (movie_id, (rating_sum, rating_count))\n",
    "for rating in rating_sum_count.take(5):\n",
    "    print(rating)"
   ]
  },
  {
   "cell_type": "code",
   "execution_count": null,
   "metadata": {},
   "outputs": [],
   "source": [
    "# Create a new RDD with better formatted tuples\n",
    "rsc_flat = rating_sum_count.map(lambda x : (x[0], x[1][0], x[1][1]))\n",
    "for rating in rsc_flat.take(5):\n",
    "    print(rating)"
   ]
  },
  {
   "cell_type": "code",
   "execution_count": null,
   "metadata": {},
   "outputs": [],
   "source": [
    "# Create an RDD with the movie_id and the average rating\n",
    "rating_avg = rsc_flat.map(lambda x: (x[0], x[1] / x[2]))\n",
    "\n",
    "for rating in rating_avg.take(5):\n",
    "    print(rating)"
   ]
  },
  {
   "cell_type": "code",
   "execution_count": null,
   "metadata": {},
   "outputs": [],
   "source": [
    "# Join movie and rating data on movie_id\n",
    "movie_rating_avg = movie_pairs.join(rating_avg)\n",
    "\n",
    "for movie_rating in movie_rating_avg.take(5):\n",
    "    print(movie_rating)"
   ]
  },
  {
   "cell_type": "code",
   "execution_count": null,
   "metadata": {},
   "outputs": [],
   "source": [
    "# Retain title and average rating\n",
    "movie_ratings = movie_rating_avg.map(lambda x: (x[0], x[1][0], x[1][1]))\n",
    "\n",
    "# movie_id, title, average_rating\n",
    "for rating in movie_ratings.take(5):\n",
    "    print(rating)"
   ]
  },
  {
   "cell_type": "code",
   "execution_count": null,
   "metadata": {},
   "outputs": [],
   "source": [
    "# Sort the ratings\n",
    "sorted_ratings = movie_ratings.sortBy(lambda x: x[2])"
   ]
  },
  {
   "cell_type": "code",
   "execution_count": null,
   "metadata": {},
   "outputs": [],
   "source": [
    "# Save the results to a file\n",
    "sorted_ratings.coalesce(1).saveAsTextFile(SAVE_DIR)"
   ]
  },
  {
   "cell_type": "code",
   "execution_count": null,
   "metadata": {},
   "outputs": [],
   "source": [
    "# Shut it down\n",
    "sc.stop()"
   ]
  },
  {
   "cell_type": "code",
   "execution_count": null,
   "metadata": {},
   "outputs": [],
   "source": []
  }
 ],
 "metadata": {
  "kernelspec": {
   "display_name": "Python 3",
   "language": "python",
   "name": "python3"
  },
  "language_info": {
   "codemirror_mode": {
    "name": "ipython",
    "version": 3
   },
   "file_extension": ".py",
   "mimetype": "text/x-python",
   "name": "python",
   "nbconvert_exporter": "python",
   "pygments_lexer": "ipython3",
   "version": "3.6.3"
  }
 },
 "nbformat": 4,
 "nbformat_minor": 2
}

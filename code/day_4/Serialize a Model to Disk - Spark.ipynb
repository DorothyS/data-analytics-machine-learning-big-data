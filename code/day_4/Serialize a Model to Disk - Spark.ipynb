{
 "cells": [
  {
   "cell_type": "markdown",
   "metadata": {},
   "source": [
    "The following example demonstrates training an elastic net regularized linear regression model and extracting model summary statistics and saving the model to disk."
   ]
  },
  {
   "cell_type": "code",
   "execution_count": 1,
   "metadata": {},
   "outputs": [],
   "source": [
    "import findspark\n",
    "findspark.init()\n",
    "\n",
    "from os import getlogin, path\n",
    "import pickle\n",
    "\n",
    "from pyspark import SparkContext\n",
    "from pyspark.sql import SQLContext\n",
    "\n",
    "from pyspark.ml.regression import LinearRegression, LinearRegressionModel"
   ]
  },
  {
   "cell_type": "code",
   "execution_count": 2,
   "metadata": {},
   "outputs": [
    {
     "name": "stdout",
     "output_type": "stream",
     "text": [
      "Home Directory: /Users/robert.dempsey/Dev/daamlobd\n",
      "Data Directory: /Users/robert.dempsey/Dev/daamlobd/data\n",
      "MLlib Data Directory: /Users/robert.dempsey/Dev/daamlobd/data/mllib\n",
      "Data File: /Users/robert.dempsey/Dev/daamlobd/data/mllib/sample_linear_regression_data.txt\n",
      "Model File Path: /Users/robert.dempsey/Dev/daamlobd/data/linear_model\n"
     ]
    }
   ],
   "source": [
    "# Directories \n",
    "\n",
    "# HOME_DIR = path.join(\"/home\", getlogin())\n",
    "HOME_DIR = path.join(\"/Users/robert.dempsey/Dev/daamlobd\")\n",
    "DATA_DIR = path.join(HOME_DIR, \"data\")\n",
    "MLLIB_DATA_DIR = path.join(DATA_DIR, \"mllib\")\n",
    "DATA_FILE   = path.join(MLLIB_DATA_DIR, \"sample_linear_regression_data.txt\")\n",
    "MODEL_FILE_PATH = path.join(DATA_DIR, \"linear_model\")\n",
    "\n",
    "# Check the things\n",
    "print(\"Home Directory: {}\".format(HOME_DIR))\n",
    "print(\"Data Directory: {}\".format(DATA_DIR))\n",
    "print(\"MLlib Data Directory: {}\".format(MLLIB_DATA_DIR))\n",
    "print(\"Data File: {}\".format(DATA_FILE))\n",
    "print(\"Model File Path: {}\".format(MODEL_FILE_PATH))"
   ]
  },
  {
   "cell_type": "code",
   "execution_count": 3,
   "metadata": {},
   "outputs": [],
   "source": [
    "# Create a SparkContext and a SQLContext context to use\n",
    "sc = SparkContext(appName=\"Linear Regression with Spark\")\n",
    "sqlContext = SQLContext(sc)"
   ]
  },
  {
   "cell_type": "code",
   "execution_count": 5,
   "metadata": {},
   "outputs": [
    {
     "data": {
      "text/plain": [
       "pyspark.sql.dataframe.DataFrame"
      ]
     },
     "execution_count": 5,
     "metadata": {},
     "output_type": "execute_result"
    }
   ],
   "source": [
    "# Load the training data into a dataframe\n",
    "training = sqlContext.read.format(\"libsvm\").load(DATA_FILE)\n",
    "type(training)"
   ]
  },
  {
   "cell_type": "code",
   "execution_count": 6,
   "metadata": {},
   "outputs": [
    {
     "data": {
      "text/plain": [
       "LinearRegression_4bf0b0872b8375f5b6cf"
      ]
     },
     "execution_count": 6,
     "metadata": {},
     "output_type": "execute_result"
    }
   ],
   "source": [
    "# Create an instance of a LinearRegression model\n",
    "lr = LinearRegression(maxIter=10, regParam=0.3, elasticNetParam=0.8)\n",
    "lr"
   ]
  },
  {
   "cell_type": "code",
   "execution_count": 7,
   "metadata": {},
   "outputs": [
    {
     "data": {
      "text/plain": [
       "LinearRegression_4bf0b0872b8375f5b6cf"
      ]
     },
     "execution_count": 7,
     "metadata": {},
     "output_type": "execute_result"
    }
   ],
   "source": [
    "# Fit (train) the model\n",
    "lr_model = lr.fit(training)\n",
    "lr_model"
   ]
  },
  {
   "cell_type": "code",
   "execution_count": 8,
   "metadata": {},
   "outputs": [
    {
     "data": {
      "text/plain": [
       "DenseVector([0.0, 0.3229, -0.3439, 1.9156, 0.0529, 0.766, 0.0, -0.1511, -0.2159, 0.2203])"
      ]
     },
     "execution_count": 8,
     "metadata": {},
     "output_type": "execute_result"
    }
   ],
   "source": [
    "# Show some summary\n",
    "lr_model.coefficients"
   ]
  },
  {
   "cell_type": "markdown",
   "metadata": {},
   "source": [
    "## Serialize the Model"
   ]
  },
  {
   "cell_type": "code",
   "execution_count": 9,
   "metadata": {},
   "outputs": [],
   "source": [
    "lr_model.write().overwrite().save(MODEL_FILE_PATH)"
   ]
  },
  {
   "cell_type": "markdown",
   "metadata": {},
   "source": [
    "## Deserialize the model"
   ]
  },
  {
   "cell_type": "code",
   "execution_count": 10,
   "metadata": {},
   "outputs": [
    {
     "name": "stdout",
     "output_type": "stream",
     "text": [
      "LinearRegression_4bf0b0872b8375f5b6cf\n"
     ]
    }
   ],
   "source": [
    "new_lr_model = LinearRegressionModel.load(MODEL_FILE_PATH)\n",
    "print(new_lr_model)"
   ]
  },
  {
   "cell_type": "code",
   "execution_count": null,
   "metadata": {},
   "outputs": [],
   "source": [
    "LinearRegression_4bf0b0872b8375f5b6cf"
   ]
  },
  {
   "cell_type": "code",
   "execution_count": 11,
   "metadata": {},
   "outputs": [
    {
     "data": {
      "text/plain": [
       "DenseVector([0.0, 0.3229, -0.3439, 1.9156, 0.0529, 0.766, 0.0, -0.1511, -0.2159, 0.2203])"
      ]
     },
     "execution_count": 11,
     "metadata": {},
     "output_type": "execute_result"
    }
   ],
   "source": [
    "# Show some summary\n",
    "new_lr_model.coefficients"
   ]
  },
  {
   "cell_type": "markdown",
   "metadata": {},
   "source": [
    "## Clean Up"
   ]
  },
  {
   "cell_type": "code",
   "execution_count": 12,
   "metadata": {},
   "outputs": [],
   "source": [
    "sc.stop()"
   ]
  },
  {
   "cell_type": "code",
   "execution_count": null,
   "metadata": {},
   "outputs": [],
   "source": []
  }
 ],
 "metadata": {
  "kernelspec": {
   "display_name": "Python 3",
   "language": "python",
   "name": "python3"
  },
  "language_info": {
   "codemirror_mode": {
    "name": "ipython",
    "version": 3
   },
   "file_extension": ".py",
   "mimetype": "text/x-python",
   "name": "python",
   "nbconvert_exporter": "python",
   "pygments_lexer": "ipython3",
   "version": "3.6.3"
  }
 },
 "nbformat": 4,
 "nbformat_minor": 2
}

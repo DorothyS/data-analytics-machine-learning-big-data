{
 "cells": [
  {
   "cell_type": "code",
   "execution_count": null,
   "metadata": {},
   "outputs": [],
   "source": [
    "# Findspark\n",
    "import findspark\n",
    "findspark.init()\n",
    "\n",
    "# Python core libs\n",
    "from os import getlogin, path\n",
    "\n",
    "# PySpark and PySpark SQL\n",
    "from pyspark import SparkContext\n",
    "from pyspark.sql import SQLContext\n",
    "\n",
    "# PySpark MLlib\n",
    "from pyspark.ml.regression import LinearRegression"
   ]
  },
  {
   "cell_type": "code",
   "execution_count": null,
   "metadata": {},
   "outputs": [],
   "source": [
    "# Directories \n",
    "\n",
    "# HOME_DIR = path.join(\"/home\", getlogin())\n",
    "HOME_DIR = path.join(\"/Users/robert.dempsey/Dev/daamlobd\")\n",
    "DATA_DIR = path.join(HOME_DIR, \"data\")\n",
    "MLLIB_DATA_DIR = path.join(DATA_DIR, \"mllib\")\n",
    "SKLEARN_DATA_DIR = path.join(DATA_DIR, \"sklearn\")\n",
    "DATA_FILE   = path.join(MLLIB_DATA_DIR, \"sample_linear_regression_data.txt\")"
   ]
  },
  {
   "cell_type": "code",
   "execution_count": null,
   "metadata": {},
   "outputs": [],
   "source": [
    "# Create a SparkContext and a SQLContext context to use\n",
    "sc = SparkContext(appName=\"Another Test App\")\n",
    "sqlContext = SQLContext(sc)"
   ]
  },
  {
   "cell_type": "markdown",
   "metadata": {},
   "source": [
    "## Code Here"
   ]
  },
  {
   "cell_type": "code",
   "execution_count": null,
   "metadata": {},
   "outputs": [],
   "source": []
  },
  {
   "cell_type": "markdown",
   "metadata": {},
   "source": [
    "## Close it down"
   ]
  },
  {
   "cell_type": "code",
   "execution_count": null,
   "metadata": {},
   "outputs": [],
   "source": [
    "sc.stop()"
   ]
  }
 ],
 "metadata": {
  "kernelspec": {
   "display_name": "Python 3",
   "language": "python",
   "name": "python3"
  },
  "language_info": {
   "codemirror_mode": {
    "name": "ipython",
    "version": 3
   },
   "file_extension": ".py",
   "mimetype": "text/x-python",
   "name": "python",
   "nbconvert_exporter": "python",
   "pygments_lexer": "ipython3",
   "version": "3.6.3"
  }
 },
 "nbformat": 4,
 "nbformat_minor": 2
}

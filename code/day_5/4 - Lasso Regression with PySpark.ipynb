{
 "cells": [
  {
   "cell_type": "markdown",
   "metadata": {},
   "source": [
    "# Lasso Regression with PySpark"
   ]
  },
  {
   "cell_type": "markdown",
   "metadata": {},
   "source": [
    "This notebook creates and measures a LASSO regression model using sklearn.\n",
    "\n",
    "* Method: LASSO regression\n",
    "* Dataset: MLlib Ridge Data"
   ]
  },
  {
   "cell_type": "markdown",
   "metadata": {},
   "source": [
    "## Imports"
   ]
  },
  {
   "cell_type": "code",
   "execution_count": null,
   "metadata": {
    "scrolled": true
   },
   "outputs": [],
   "source": [
    "# Python core libs\n",
    "from os import getlogin, path, environ\n",
    "import numpy as np\n",
    "\n",
    "# Set SPARK_HOME\n",
    "environ[\"SPARK_HOME\"] = \"/home/students/spark-2.2.0\"\n",
    "\n",
    "# Findspark\n",
    "import findspark\n",
    "findspark.init()\n",
    "\n",
    "# PySpark and PySpark SQL\n",
    "from pyspark import SparkContext\n",
    "from pyspark.sql import SQLContext\n",
    "from pyspark.sql.types import FloatType\n",
    "import pyspark.sql.functions as F\n",
    "\n",
    "# PySpark MLlib\n",
    "from pyspark.mllib.regression import LabeledPoint, LinearRegressionWithSGD\n",
    "\n",
    "import matplotlib.pyplot as plt\n",
    "%matplotlib inline\n",
    "\n",
    "import warnings\n",
    "warnings.filterwarnings('ignore')"
   ]
  },
  {
   "cell_type": "markdown",
   "metadata": {},
   "source": [
    "## Get Some Context"
   ]
  },
  {
   "cell_type": "code",
   "execution_count": null,
   "metadata": {
    "scrolled": true
   },
   "outputs": [],
   "source": [
    "# Create a SparkContext and a SQLContext context to use\n",
    "sc = SparkContext(appName=\"LASSO Regression with Spark\")\n",
    "sqlContext = SQLContext(sc)"
   ]
  },
  {
   "cell_type": "markdown",
   "metadata": {},
   "source": [
    "## Load and Prepare the Data"
   ]
  },
  {
   "cell_type": "code",
   "execution_count": null,
   "metadata": {
    "scrolled": true
   },
   "outputs": [],
   "source": [
    "# Data \n",
    "DATA_FILE = \"/home/students/data/mllib/ridge-data/lpsa.data\""
   ]
  },
  {
   "cell_type": "code",
   "execution_count": null,
   "metadata": {},
   "outputs": [],
   "source": [
    "def parse_point(line):\n",
    "    '''\n",
    "    Returns a labeled point for the record.\n",
    "    \n",
    "    A labeled point is a local vector, either dense or sparse, associated with a label/response.\n",
    "    '''\n",
    "    values = [float(x) for x in line.replace(',', ' ').split(' ')]\n",
    "    return LabeledPoint(values[0], values[1:])\n",
    "\n",
    "data = sc.textFile(DATA_FILE)\n",
    "parsed_data = data.map(parse_point)"
   ]
  },
  {
   "cell_type": "code",
   "execution_count": null,
   "metadata": {},
   "outputs": [],
   "source": [
    "# Show a single record: LabeledPoint(label, [features])\n",
    "parsed_data.take(1)"
   ]
  },
  {
   "cell_type": "markdown",
   "metadata": {},
   "source": [
    "## Fit a Linear Regression Model with LASSO\n",
    "\n",
    "Train a linear regression model using [Stochastic Gradient Descent (SGD)](https://en.wikipedia.org/wiki/Stochastic_gradient_descent) and L1 (LASSO) regularization.\n",
    "\n",
    "* iterations:  number of iterations. (default: 100)\n",
    "* step: step parameter used in SGD. (default: 1.0)\n",
    "* regParam: The regularizer parameter. (default: 0.0)\n",
    "* regType: the type of regularizer used for training our model. Supported values:\n",
    "    * `l1` for using L1 regularization\n",
    "    * `l2` for using L2 regularization\n",
    "    * None for no regularization (default)"
   ]
  },
  {
   "cell_type": "code",
   "execution_count": null,
   "metadata": {},
   "outputs": [],
   "source": [
    "# Create an instance of a LinearRegressionWithSGD and train it on the RDD of LabeledPoints\n",
    "model = LinearRegressionWithSGD.train(parsed_data, iterations=100, step=0.00000001, regType='l1')"
   ]
  },
  {
   "cell_type": "code",
   "execution_count": null,
   "metadata": {},
   "outputs": [],
   "source": [
    "# Intercept for the model\n",
    "print('Estimated intercept coefficient: {}'.format(model.intercept))"
   ]
  },
  {
   "cell_type": "markdown",
   "metadata": {},
   "source": [
    "## Create Predictions"
   ]
  },
  {
   "cell_type": "code",
   "execution_count": null,
   "metadata": {},
   "outputs": [],
   "source": [
    "values_and_predictions = parsed_data.map(lambda p: (p.label, model.predict(p.features)))\n",
    "values_and_predictions.take(1)"
   ]
  },
  {
   "cell_type": "code",
   "execution_count": null,
   "metadata": {},
   "outputs": [],
   "source": [
    "# Create a plot to compare the actuals (values) and predictions\n",
    "vp_list = values_and_predictions.collect()\n",
    "vp_list_prepared = [(x[0], float(x[1])) for x in vp_list]\n",
    "\n",
    "values_predictions_df = sqlContext.createDataFrame(vp_list_prepared, [\"actual\", \"predicted\"])\n",
    "\n",
    "actuals = values_predictions_df.rdd.map(lambda r: r.actual).collect()\n",
    "predictions = values_predictions_df.rdd.map(lambda r: r.predicted).collect()\n",
    "\n",
    "print(\"Min actual: {}\".format(min(actuals)))\n",
    "print(\"Mean actual: {}\".format(np.mean(actuals)))\n",
    "print(\"Max actual: {}\\n\".format(max(actuals)))\n",
    "print(\"Min prediction: {}\".format(min(predictions)))\n",
    "print(\"Mean prediction: {}\".format(np.mean(predictions)))\n",
    "print(\"Max prediction: {}\".format(max(predictions)))\n",
    "\n",
    "fig = plt.figure(figsize=(20,10))\n",
    "plt.scatter(actuals, predictions)\n",
    "plt.xlabel(\"Actuals\")\n",
    "plt.ylabel(\"Predictions\")\n",
    "plt.title(\"Actuals vs. Predictiions\")\n",
    "plt.show()"
   ]
  },
  {
   "cell_type": "markdown",
   "metadata": {},
   "source": [
    "## Model Evaluation"
   ]
  },
  {
   "cell_type": "markdown",
   "metadata": {},
   "source": [
    "### Mean Squared Error\n",
    "\n",
    "* A measure of the average magnitude of the errors without consideration for their direction; measures accuracy for continuous variables.\n",
    "* Always non-negative\n",
    "* Values closer to zero (0) are better"
   ]
  },
  {
   "cell_type": "code",
   "execution_count": null,
   "metadata": {},
   "outputs": [],
   "source": [
    "# Calculate the Mean Squared Error\n",
    "MSE = values_and_predictions \\\n",
    "    .map(lambda vp: (vp[0] - vp[1])**2) \\\n",
    "    .reduce(lambda x, y: x + y) / values_and_predictions.count()\n",
    "\n",
    "print(\"Mean Squared Error = \" + str(MSE))"
   ]
  },
  {
   "cell_type": "markdown",
   "metadata": {},
   "source": [
    "## Cleanup"
   ]
  },
  {
   "cell_type": "code",
   "execution_count": null,
   "metadata": {},
   "outputs": [],
   "source": [
    "sc.stop()"
   ]
  },
  {
   "cell_type": "code",
   "execution_count": null,
   "metadata": {},
   "outputs": [],
   "source": []
  }
 ],
 "metadata": {
  "kernelspec": {
   "display_name": "Python 3",
   "language": "python",
   "name": "python3"
  },
  "language_info": {
   "codemirror_mode": {
    "name": "ipython",
    "version": 3
   },
   "file_extension": ".py",
   "mimetype": "text/x-python",
   "name": "python",
   "nbconvert_exporter": "python",
   "pygments_lexer": "ipython3",
   "version": "3.6.3"
  }
 },
 "nbformat": 4,
 "nbformat_minor": 2
}

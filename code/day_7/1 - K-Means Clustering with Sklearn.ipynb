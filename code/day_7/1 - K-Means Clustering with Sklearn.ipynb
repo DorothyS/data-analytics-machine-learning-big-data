{
 "cells": [
  {
   "cell_type": "markdown",
   "metadata": {},
   "source": [
    "# K-Means Clustering with Sklearn"
   ]
  },
  {
   "cell_type": "markdown",
   "metadata": {},
   "source": [
    "This notebook shows how to train and measure a K-Means clustering model.\n",
    "\n",
    "* Method: [K-Means Clustering](http://scikit-learn.org/stable/modules/generated/sklearn.cluster.KMeans.html)\n",
    "* Dataset: Stock market data"
   ]
  },
  {
   "cell_type": "markdown",
   "metadata": {},
   "source": [
    "## Imports"
   ]
  },
  {
   "cell_type": "code",
   "execution_count": null,
   "metadata": {},
   "outputs": [],
   "source": [
    "import pandas as pd\n",
    "import numpy as np\n",
    "\n",
    "from sklearn.cluster import KMeans\n",
    "from sklearn.decomposition import PCA\n",
    "from sklearn import metrics\n",
    "\n",
    "import seaborn as sb\n",
    "import matplotlib.pyplot as plt\n",
    "from pylab import rcParams\n",
    "\n",
    "%matplotlib inline\n",
    "rcParams['figure.figsize'] = 10, 8\n",
    "sb.set_style('whitegrid')"
   ]
  },
  {
   "cell_type": "markdown",
   "metadata": {},
   "source": [
    "## Load and Prepare the Data"
   ]
  },
  {
   "cell_type": "code",
   "execution_count": null,
   "metadata": {},
   "outputs": [],
   "source": [
    "DATA_FILE = \"/Users/robert.dempsey/Dev/daamlobd/data/sample_stocks.csv\""
   ]
  },
  {
   "cell_type": "code",
   "execution_count": null,
   "metadata": {},
   "outputs": [],
   "source": [
    "# Import the data\n",
    "data = pd.read_csv(DATA_FILE)\n",
    "data.head(5)"
   ]
  },
  {
   "cell_type": "code",
   "execution_count": null,
   "metadata": {},
   "outputs": [],
   "source": [
    "# Check the data types\n",
    "data.dtypes"
   ]
  },
  {
   "cell_type": "code",
   "execution_count": null,
   "metadata": {},
   "outputs": [],
   "source": [
    "# Create the X and y\n",
    "X = data[['dividendyield']]\n",
    "y = data[['returns']]"
   ]
  },
  {
   "cell_type": "markdown",
   "metadata": {},
   "source": [
    "## Identify the Number of Clusters to Use"
   ]
  },
  {
   "cell_type": "code",
   "execution_count": null,
   "metadata": {},
   "outputs": [],
   "source": [
    "# Define the cluster range\n",
    "cluster_range = range(1, 20)\n",
    "\n",
    "# Create a list of KMeans models with differing numbers of clusters\n",
    "kmeans_models = [KMeans(n_clusters=i) for i in cluster_range]\n",
    "\n",
    "# Let's take a look\n",
    "kmeans_models[12]"
   ]
  },
  {
   "cell_type": "markdown",
   "metadata": {},
   "source": [
    "**Cluster score**\n",
    "\n",
    "* An internal evaluation criteria\n",
    "* Defined as: the opposite of the value of X on the K-means objective (distance between the data samples and their associated cluster centers).\n",
    "* A high score is assigned to an algorithm that produces clusters with high similarity within a cluster and low similarity between clusters"
   ]
  },
  {
   "cell_type": "code",
   "execution_count": null,
   "metadata": {},
   "outputs": [],
   "source": [
    "# Create scores for each model\n",
    "cluster_scores = [kmeans_models[i].fit(y).score(y) for i in range(len(kmeans_models))]\n",
    "cluster_scores[12]"
   ]
  },
  {
   "cell_type": "code",
   "execution_count": null,
   "metadata": {},
   "outputs": [],
   "source": [
    "# Plot an elbow curve of the scores to find the optimal number of clusters\n",
    "plt.plot(cluster_range, cluster_scores)\n",
    "plt.xlabel('Number of Clusters')\n",
    "plt.ylabel('Score')\n",
    "plt.title('Elbow Curve')\n",
    "plt.show()"
   ]
  },
  {
   "cell_type": "markdown",
   "metadata": {},
   "source": [
    "**Interpretation**: it appears that after 3 clusters performance doesn't improve much"
   ]
  },
  {
   "cell_type": "code",
   "execution_count": null,
   "metadata": {},
   "outputs": [],
   "source": [
    "print(\"2 clusters: %.2f\" % cluster_scores[1])\n",
    "print(\"3 clusters: %.2f\" % cluster_scores[2])\n",
    "print(\"4 clusters: %.2f\" % cluster_scores[3])\n",
    "print(\"5 clusters: %.2f\" % cluster_scores[4])\n",
    "print(\"6 clusters: %.2f\" % cluster_scores[5])\n",
    "print(\"7 clusters: %.2f\" % cluster_scores[6])"
   ]
  },
  {
   "cell_type": "markdown",
   "metadata": {},
   "source": [
    "## Fit a K-Means Clustering Model"
   ]
  },
  {
   "cell_type": "markdown",
   "metadata": {},
   "source": [
    "### Train the Model"
   ]
  },
  {
   "cell_type": "code",
   "execution_count": null,
   "metadata": {},
   "outputs": [],
   "source": [
    "# Create an instance of the model using the number of clusters we previously found\n",
    "model = KMeans(n_clusters=3)\n",
    "model.fit(y)\n",
    "model"
   ]
  },
  {
   "cell_type": "markdown",
   "metadata": {},
   "source": [
    "### Plot the Clusters"
   ]
  },
  {
   "cell_type": "code",
   "execution_count": null,
   "metadata": {},
   "outputs": [],
   "source": [
    "# Plot the clusters using the data transformed using pca\n",
    "plt.figure('3 Cluster K-Means')\n",
    "plt.scatter(pca_c[:, 0], pca_d[:, 0], c=model.labels_)\n",
    "plt.xlabel('Dividend Yield')\n",
    "plt.ylabel('Returns')\n",
    "plt.title('3 Cluster K-Means')\n",
    "plt.show()"
   ]
  },
  {
   "cell_type": "markdown",
   "metadata": {},
   "source": [
    "## Model Evaluation"
   ]
  },
  {
   "cell_type": "markdown",
   "metadata": {},
   "source": [
    "### Silhouette Score\n",
    "\n",
    "Shows how well defined the clusters are.\n",
    "\n",
    "Scores\n",
    "* 1: Best (Better fit)\n",
    "* 0: indicates overlapping clusters\n",
    "* -1: Worst\n",
    "\n",
    "Details\n",
    "* Silhouette Coefficient\n",
    "  * Mean distance of an observation and all other points in it's cluster.\n",
    "  * Mean distance between an observation and all other points in the next nearest cluster\n",
    "* Silhouette Score in Sklearn\n",
    "  * Mean of silhouette coefficient for all observations"
   ]
  },
  {
   "cell_type": "code",
   "execution_count": null,
   "metadata": {},
   "outputs": [],
   "source": [
    "metrics.silhouette_score(data, model.labels_, metric='euclidean')"
   ]
  },
  {
   "cell_type": "code",
   "execution_count": null,
   "metadata": {},
   "outputs": [],
   "source": []
  }
 ],
 "metadata": {
  "kernelspec": {
   "display_name": "Python 3",
   "language": "python",
   "name": "python3"
  },
  "language_info": {
   "codemirror_mode": {
    "name": "ipython",
    "version": 3
   },
   "file_extension": ".py",
   "mimetype": "text/x-python",
   "name": "python",
   "nbconvert_exporter": "python",
   "pygments_lexer": "ipython3",
   "version": "3.6.3"
  }
 },
 "nbformat": 4,
 "nbformat_minor": 2
}

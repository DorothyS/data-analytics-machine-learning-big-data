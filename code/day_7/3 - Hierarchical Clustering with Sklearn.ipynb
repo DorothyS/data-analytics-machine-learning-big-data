{
 "cells": [
  {
   "cell_type": "markdown",
   "metadata": {},
   "source": [
    "# Hierarchical Clustering with Sklearn"
   ]
  },
  {
   "cell_type": "markdown",
   "metadata": {},
   "source": [
    "This notebook shows how to train and measure a hieararchical (agglomerative) clustering model.\n",
    "\n",
    "* Method: [Hierarchical Clustering](http://scikit-learn.org/stable/modules/clustering.html#hierarchical-clustering)\n",
    "* Dataset: Stock market data"
   ]
  },
  {
   "cell_type": "markdown",
   "metadata": {},
   "source": [
    "## Imports"
   ]
  },
  {
   "cell_type": "code",
   "execution_count": null,
   "metadata": {},
   "outputs": [],
   "source": [
    "from itertools import product\n",
    "\n",
    "import pandas as pd\n",
    "import numpy as np\n",
    "\n",
    "from sklearn.cluster import AgglomerativeClustering\n",
    "from sklearn import metrics\n",
    "\n",
    "import seaborn as sb\n",
    "import matplotlib.pyplot as plt\n",
    "from pylab import rcParams\n",
    "\n",
    "%matplotlib inline\n",
    "rcParams['figure.figsize'] = 16, 8\n",
    "sb.set_style('whitegrid')"
   ]
  },
  {
   "cell_type": "markdown",
   "metadata": {},
   "source": [
    "## Load and Prepare the Data"
   ]
  },
  {
   "cell_type": "code",
   "execution_count": null,
   "metadata": {},
   "outputs": [],
   "source": [
    "DATA_FILE = \"/Users/robert.dempsey/Dev/daamlobd/data/sample_stocks.csv\""
   ]
  },
  {
   "cell_type": "code",
   "execution_count": null,
   "metadata": {},
   "outputs": [],
   "source": [
    "# Import the data\n",
    "data = pd.read_csv(DATA_FILE)\n",
    "data.head(5)"
   ]
  },
  {
   "cell_type": "code",
   "execution_count": null,
   "metadata": {},
   "outputs": [],
   "source": [
    "# Check the data types\n",
    "data.dtypes"
   ]
  },
  {
   "cell_type": "code",
   "execution_count": null,
   "metadata": {},
   "outputs": [],
   "source": [
    "# Create the X and y\n",
    "X = data[['dividendyield']]\n",
    "y = data[['returns']]"
   ]
  },
  {
   "cell_type": "markdown",
   "metadata": {},
   "source": [
    "## Identify the Number of Clusters and Linkage Type to Use"
   ]
  },
  {
   "cell_type": "code",
   "execution_count": null,
   "metadata": {},
   "outputs": [],
   "source": [
    "# Create a list of tuples to test cluster ranges with different linkages\n",
    "cluster_range = range(2, 11)\n",
    "linkage = ['average', 'complete', 'ward']\n",
    "\n",
    "cluster_range_linkage = list(product(cluster_range, linkage))\n",
    "print(cluster_range_linkage)"
   ]
  },
  {
   "cell_type": "code",
   "execution_count": null,
   "metadata": {},
   "outputs": [],
   "source": [
    "# Create a list of AgglomerativeClustering models with differing numbers of clusters\n",
    "ag_models = [AgglomerativeClustering(n_clusters=i[0], linkage=i[1]) for i in cluster_range_linkage]\n",
    "print(ag_models[0])\n",
    "print(ag_models[7])"
   ]
  },
  {
   "cell_type": "code",
   "execution_count": null,
   "metadata": {},
   "outputs": [],
   "source": [
    "# For each model, fit it to the data and get the Silhouette score (described below)\n",
    "cluster_scores = list()\n",
    "\n",
    "# Fit each of the models on the features (y)\n",
    "for ag_model in ag_models:\n",
    "    model = ag_model.fit(y)\n",
    "    s_score = metrics.silhouette_score(data, model.labels_, metric='euclidean')\n",
    "    cluster_scores.append(s_score)\n",
    "\n",
    "# Show one of the scores\n",
    "cluster_scores[0]"
   ]
  },
  {
   "cell_type": "code",
   "execution_count": null,
   "metadata": {},
   "outputs": [],
   "source": [
    "# Plot an barchart of the scores\n",
    "chart_labels = [\"{}_{}\".format(i[0], i[1]) for i in cluster_range_linkage]\n",
    "\n",
    "sb.barplot(y=chart_labels, x=cluster_scores)"
   ]
  },
  {
   "cell_type": "markdown",
   "metadata": {},
   "source": [
    "**Observation**: based on the graph above it appears that 3 clusters using complete linkage has the best silhouette score."
   ]
  },
  {
   "cell_type": "code",
   "execution_count": null,
   "metadata": {},
   "outputs": [],
   "source": [
    "# Get the index value of the max cluster score\n",
    "max_score_index = cluster_scores.index(max(cluster_scores))\n",
    "\n",
    "# Get the number of clusters used for the model with the max score\n",
    "params_to_use = cluster_range_linkage[max_score_index]\n",
    "\n",
    "print(\"Number of clusters: {}\".format(params_to_use[0]))\n",
    "print(\"Linkage type: {}\".format(params_to_use[1]))"
   ]
  },
  {
   "cell_type": "markdown",
   "metadata": {},
   "source": [
    "## Fit a Hierarchical Clustering Model"
   ]
  },
  {
   "cell_type": "markdown",
   "metadata": {},
   "source": [
    "Arguments:\n",
    "* n_clusters: number of clusters to find\n",
    "* linkage: linkage criterion; determines which distance to use between sets of observation\n",
    "  * ward: minimizes the variance of the clusters being merged.\n",
    "  * average: uses the average of the distances of each observation of the two sets.\n",
    "  * complete: uses the maximum distances between all observations of the two sets.\n",
    "* affinity: metric used to compute the linkage. Can be`euclidean`, `l1`, `l2`, `manhattan`, `cosine`, or `precomputed`. If linkage is `ward`, only `euclidean` is accepted."
   ]
  },
  {
   "cell_type": "code",
   "execution_count": null,
   "metadata": {},
   "outputs": [],
   "source": [
    "# Fit the model\n",
    "ag_model = AgglomerativeClustering(n_clusters=params_to_use[0], linkage=params_to_use[1])\n",
    "model = ag_model.fit(y)"
   ]
  },
  {
   "cell_type": "markdown",
   "metadata": {},
   "source": [
    "## Model Evaluation"
   ]
  },
  {
   "cell_type": "markdown",
   "metadata": {},
   "source": [
    "### Silhouette Score\n",
    "\n",
    "The mean Silhouette Coefficient of all samples.\n",
    "\n",
    "The Silhouette Coefficient is calculated using the mean intra-cluster distance (``a``) and the mean nearest-cluster distance (``b``) for each sample.\n",
    "\n",
    "The best value is 1 and the worst value is -1. Values near 0 indicate overlapping clusters. Negative values generally indicate that a sample has been assigned to the wrong cluster, as a different cluster is more similar."
   ]
  },
  {
   "cell_type": "code",
   "execution_count": null,
   "metadata": {},
   "outputs": [],
   "source": [
    "s_score = metrics.silhouette_score(data, model.labels_, metric='euclidean')\n",
    "print(\"Silhouette score: %0.2f\" % s_score)"
   ]
  },
  {
   "cell_type": "markdown",
   "metadata": {},
   "source": [
    "### Additional Model Information"
   ]
  },
  {
   "cell_type": "code",
   "execution_count": null,
   "metadata": {},
   "outputs": [],
   "source": [
    "print(\"Number of leaves: {}\".format(model.n_leaves_))\n",
    "print(\"Number of components: {}\".format(model.n_components_))\n",
    "print(\"Model affinity: {}\".format(model.affinity))"
   ]
  },
  {
   "cell_type": "code",
   "execution_count": null,
   "metadata": {},
   "outputs": [],
   "source": []
  }
 ],
 "metadata": {
  "kernelspec": {
   "display_name": "Python 3",
   "language": "python",
   "name": "python3"
  },
  "language_info": {
   "codemirror_mode": {
    "name": "ipython",
    "version": 3
   },
   "file_extension": ".py",
   "mimetype": "text/x-python",
   "name": "python",
   "nbconvert_exporter": "python",
   "pygments_lexer": "ipython3",
   "version": "3.6.3"
  }
 },
 "nbformat": 4,
 "nbformat_minor": 2
}
